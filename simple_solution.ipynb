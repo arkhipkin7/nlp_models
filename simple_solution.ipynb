{
 "cells": [
  {
   "cell_type": "code",
   "execution_count": 12,
   "id": "398c16ff-7438-4b13-a739-46897a279ddd",
   "metadata": {},
   "outputs": [],
   "source": [
    "import pandas as pd\n",
    "import matplotlib.pyplot as plt"
   ]
  },
  {
   "cell_type": "code",
   "execution_count": 14,
   "id": "52dfcff6-43e7-4c12-a479-aa9a40f6ac1e",
   "metadata": {},
   "outputs": [
    {
     "name": "stdout",
     "output_type": "stream",
     "text": [
      "Shape of DataFrame: (5572, 2)\n",
      "CPU times: user 11.9 ms, sys: 2.85 ms, total: 14.8 ms\n",
      "Wall time: 14.4 ms\n"
     ]
    },
    {
     "data": {
      "text/html": [
       "<div>\n",
       "<style scoped>\n",
       "    .dataframe tbody tr th:only-of-type {\n",
       "        vertical-align: middle;\n",
       "    }\n",
       "\n",
       "    .dataframe tbody tr th {\n",
       "        vertical-align: top;\n",
       "    }\n",
       "\n",
       "    .dataframe thead th {\n",
       "        text-align: right;\n",
       "    }\n",
       "</style>\n",
       "<table border=\"1\" class=\"dataframe\">\n",
       "  <thead>\n",
       "    <tr style=\"text-align: right;\">\n",
       "      <th></th>\n",
       "      <th>Category</th>\n",
       "      <th>Message</th>\n",
       "    </tr>\n",
       "  </thead>\n",
       "  <tbody>\n",
       "    <tr>\n",
       "      <th>0</th>\n",
       "      <td>ham</td>\n",
       "      <td>Go until jurong point, crazy.. Available only ...</td>\n",
       "    </tr>\n",
       "    <tr>\n",
       "      <th>1</th>\n",
       "      <td>ham</td>\n",
       "      <td>Ok lar... Joking wif u oni...</td>\n",
       "    </tr>\n",
       "    <tr>\n",
       "      <th>2</th>\n",
       "      <td>spam</td>\n",
       "      <td>Free entry in 2 a wkly comp to win FA Cup fina...</td>\n",
       "    </tr>\n",
       "    <tr>\n",
       "      <th>3</th>\n",
       "      <td>ham</td>\n",
       "      <td>U dun say so early hor... U c already then say...</td>\n",
       "    </tr>\n",
       "    <tr>\n",
       "      <th>4</th>\n",
       "      <td>ham</td>\n",
       "      <td>Nah I don't think he goes to usf, he lives aro...</td>\n",
       "    </tr>\n",
       "  </tbody>\n",
       "</table>\n",
       "</div>"
      ],
      "text/plain": [
       "  Category                                            Message\n",
       "0      ham  Go until jurong point, crazy.. Available only ...\n",
       "1      ham                      Ok lar... Joking wif u oni...\n",
       "2     spam  Free entry in 2 a wkly comp to win FA Cup fina...\n",
       "3      ham  U dun say so early hor... U c already then say...\n",
       "4      ham  Nah I don't think he goes to usf, he lives aro..."
      ]
     },
     "execution_count": 14,
     "metadata": {},
     "output_type": "execute_result"
    }
   ],
   "source": [
    "%%time\n",
    "df = pd.read_csv('data/SPAM text message 20170820 - Data.csv')\n",
    "print(f'Shape of DataFrame: {df.shape}')\n",
    "df.head()"
   ]
  },
  {
   "cell_type": "markdown",
   "id": "ab7195e4-55d9-482c-b35a-ec4fa92dd9a3",
   "metadata": {},
   "source": [
    "# Main stats"
   ]
  },
  {
   "cell_type": "code",
   "execution_count": 15,
   "id": "8cd4544f-8008-40c9-a614-ed6af17fb136",
   "metadata": {},
   "outputs": [
    {
     "data": {
      "image/png": "[encoded data removed]",
      "text/plain": [
       "<Figure size 432x288 with 1 Axes>"
      ]
     },
     "metadata": {
      "needs_background": "light"
     },
     "output_type": "display_data"
    }
   ],
   "source": [
    "df['Category'].value_counts().plot.bar(rot=0)\n",
    "plt.show()"
   ]
  },
  {
   "cell_type": "code",
   "execution_count": 29,
   "id": "085f75a8-0127-44e5-9b3d-c6730e1c26db",
   "metadata": {},
   "outputs": [
    {
     "name": "stdout",
     "output_type": "stream",
     "text": [
      "Среднее кол-во символов в строке: 80\n",
      "Медианное кол-во символов в строке: 61\n"
     ]
    }
   ],
   "source": [
    "mean_symbols = int(df.Message.str.len().mean())\n",
    "median_symbols = int(df.Message.str.len().median())\n",
    "\n",
    "print(f\"Среднее кол-во символов в строке: {mean_symbols}\")\n",
    "print(f\"Медианное кол-во символов в строке: {median_symbols}\")"
   ]
  },
  {
   "cell_type": "code",
   "execution_count": 30,
   "id": "ffbb7a4a-fba7-4e2d-b548-6cbaf33a10bb",
   "metadata": {},
   "outputs": [
    {
     "name": "stdout",
     "output_type": "stream",
     "text": [
      "Среднее кол-во слов в строке: 15\n",
      "Медианное кол-во слов в строке: 12\n"
     ]
    }
   ],
   "source": [
    "mean_words = int(df.Message.str.split(' ').apply(lambda x: len(x)).mean())\n",
    "median_words = int(df.Message.str.split(' ').apply(lambda x: len(x)).median())\n",
    "\n",
    "print(f\"Среднее кол-во слов в строке: {mean_words}\")\n",
    "print(f\"Медианное кол-во слов в строке: {median_words}\")"
   ]
  },
  {
   "cell_type": "markdown",
   "id": "3ceb92ce-642f-406e-b059-50f59c467a54",
   "metadata": {},
   "source": [
    "# Train simple model"
   ]
  },
  {
   "cell_type": "code",
   "execution_count": 33,
   "id": "a7a3842a-d10f-4887-80e8-b81de6a213a4",
   "metadata": {},
   "outputs": [],
   "source": [
    "from sklearn.linear_model import LogisticRegression\n",
    "from sklearn.feature_extraction.text import TfidfVectorizer"
   ]
  },
  {
   "cell_type": "code",
   "execution_count": 109,
   "id": "26d6cd7b-200e-4ed6-abe5-578b1cbfbf3e",
   "metadata": {},
   "outputs": [],
   "source": [
    "tfidf = TfidfVectorizer()\n",
    "\n",
    "X_cat = df.drop('Category', axis=1).Message.values.tolist()\n",
    "y = df.drop('Message', axis=1)\n",
    "\n",
    "X = tfidf.fit_transform(X_cat)"
   ]
  },
  {
   "cell_type": "code",
   "execution_count": 110,
   "id": "1f70770d-4c5f-4192-ad1b-f06796251a8e",
   "metadata": {},
   "outputs": [],
   "source": [
    "clf = LogisticRegression()"
   ]
  },
  {
   "cell_type": "code",
   "execution_count": 111,
   "id": "b6b235ab-4f06-4a6d-b7ee-1eda0d5f3073",
   "metadata": {},
   "outputs": [
    {
     "data": {
      "text/plain": [
       "LogisticRegression()"
      ]
     },
     "execution_count": 111,
     "metadata": {},
     "output_type": "execute_result"
    }
   ],
   "source": [
    "clf.fit(X, y.Category.values.tolist())"
   ]
  },
  {
   "cell_type": "code",
   "execution_count": 112,
   "id": "f9df539e-a9f7-4ed9-84a3-7070d55aba7d",
   "metadata": {},
   "outputs": [],
   "source": [
    "msg = 'You are a winner U have been specially selected 2 receive ¬£1000 or a 4* holiday (flights inc) speak to a live operator 2 claim 0871277810910p/min (18+)'\n",
    "msg_transfort = tfidf.transform([msg])\n"
   ]
  },
  {
   "cell_type": "code",
   "execution_count": 113,
   "id": "c9660301-838e-4b1a-8529-98b1733139b1",
   "metadata": {},
   "outputs": [
    {
     "data": {
      "text/plain": [
       "['spam']"
      ]
     },
     "execution_count": 113,
     "metadata": {},
     "output_type": "execute_result"
    }
   ],
   "source": [
    "clf.predict(msg_transfort).tolist()"
   ]
  },
  {
   "cell_type": "markdown",
   "id": "c114336f-e272-45f6-a807-723fa794e3a9",
   "metadata": {},
   "source": [
    "# Save models to Pickle"
   ]
  },
  {
   "cell_type": "code",
   "execution_count": 116,
   "id": "406c730c-1938-4fe0-b5f2-02240364b198",
   "metadata": {},
   "outputs": [],
   "source": [
    "import pickle"
   ]
  },
  {
   "cell_type": "code",
   "execution_count": 120,
   "id": "f8dba5f2-575d-4605-a631-4615d0f39f7c",
   "metadata": {},
   "outputs": [],
   "source": [
    "pickle.dump(tfidf, open(\"tfidf.pkl\", \"wb\"))"
   ]
  },
  {
   "cell_type": "code",
   "execution_count": 121,
   "id": "c76fc4f0-d2e0-4346-98f6-d51855f39548",
   "metadata": {},
   "outputs": [],
   "source": [
    "pickle.dump(clf, open(\"logreg_model.sav\", \"wb\"))"
   ]
  },
  {
   "cell_type": "markdown",
   "id": "a32ec983-98f6-4814-b29c-13f253c00504",
   "metadata": {},
   "source": [
    "---"
   ]
  },
  {
   "cell_type": "markdown",
   "id": "c0c0bc07-2ec9-4c38-ad93-3bd6f99717e4",
   "metadata": {},
   "source": [
    "# Test API"
   ]
  },
  {
   "cell_type": "code",
   "execution_count": 122,
   "id": "064b6105-66ee-4697-aad3-b16da687b0b6",
   "metadata": {},
   "outputs": [],
   "source": [
    "import requests"
   ]
  },
  {
   "cell_type": "code",
   "execution_count": 140,
   "id": "bb157c3d-64e9-45fd-b952-a8c24362c3f4",
   "metadata": {},
   "outputs": [
    {
     "data": {
      "text/plain": [
       "'{\"predictions\": [\"spam\"]}'"
      ]
     },
     "execution_count": 140,
     "metadata": {},
     "output_type": "execute_result"
    }
   ],
   "source": [
    "requests.post(\n",
    "    'http://127.0.0.1:5000/predict', \n",
    "    json={\n",
    "        \"text\": \"\"\"You are a winner U have been specially selected 2 receive ¬£1000\n",
    "        or a 4* holiday (flights inc) speak to a live operator 2 claim 0871277810910p/min (18+)\"\"\"\n",
    "    }\n",
    ").text"
   ]
  },
  {
   "cell_type": "markdown",
   "id": "67f0e7db-ce6e-4b71-9f43-7a8eb7096a87",
   "metadata": {},
   "source": [
    "---"
   ]
  }
 ],
 "metadata": {
  "kernelspec": {
   "display_name": "Python 3 (ipykernel)",
   "language": "python",
   "name": "python3"
  },
  "language_info": {
   "codemirror_mode": {
    "name": "ipython",
    "version": 3
   },
   "file_extension": ".py",
   "mimetype": "text/x-python",
   "name": "python",
   "nbconvert_exporter": "python",
   "pygments_lexer": "ipython3",
   "version": "3.9.12"
  }
 },
 "nbformat": 4,
 "nbformat_minor": 5
}
